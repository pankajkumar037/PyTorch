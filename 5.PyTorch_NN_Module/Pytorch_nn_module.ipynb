{
  "nbformat": 4,
  "nbformat_minor": 0,
  "metadata": {
    "colab": {
      "provenance": []
    },
    "kernelspec": {
      "name": "python3",
      "display_name": "Python 3"
    },
    "language_info": {
      "name": "python"
    }
  },
  "cells": [
    {
      "cell_type": "code",
      "source": [
        "# create model class\n",
        "import torch\n",
        "import torch.nn as nn\n",
        "\n",
        "class Model(nn.Module):\n",
        "\n",
        "  def __init__(self, num_features):\n",
        "\n",
        "    super().__init__()\n",
        "    self.network = nn.Sequential(\n",
        "        nn.Linear(num_features, 3),\n",
        "        nn.ReLU(),\n",
        "        nn.Linear(3, 1),\n",
        "        nn.Sigmoid()\n",
        "    )\n",
        "\n",
        "  def forward(self, features):\n",
        "\n",
        "    out = self.network(features)\n",
        "\n",
        "    return out"
      ],
      "metadata": {
        "id": "oJvxf-ftpdEy"
      },
      "execution_count": 7,
      "outputs": []
    },
    {
      "cell_type": "code",
      "source": [
        "# create dataset\n",
        "features = torch.rand(10,5)"
      ],
      "metadata": {
        "id": "eBCgxLR-O3TD"
      },
      "execution_count": 8,
      "outputs": []
    },
    {
      "cell_type": "code",
      "source": [
        "features"
      ],
      "metadata": {
        "colab": {
          "base_uri": "https://localhost:8080/"
        },
        "id": "Jj3adXNpO4j_",
        "outputId": "d67172b6-e8a1-4117-9eea-6570a2e0fe79"
      },
      "execution_count": 12,
      "outputs": [
        {
          "output_type": "execute_result",
          "data": {
            "text/plain": [
              "tensor([[0.6102, 0.6430, 0.8395, 0.0070, 0.6452],\n",
              "        [0.5265, 0.0214, 0.5806, 0.8213, 0.2827],\n",
              "        [0.7111, 0.1721, 0.0782, 0.8469, 0.8602],\n",
              "        [0.3421, 0.9097, 0.4932, 0.7622, 0.2405],\n",
              "        [0.3570, 0.6851, 0.5388, 0.6721, 0.1709],\n",
              "        [0.4180, 0.8331, 0.6844, 0.5733, 0.4451],\n",
              "        [0.6067, 0.0106, 0.4783, 0.1919, 0.2589],\n",
              "        [0.0866, 0.5484, 0.7179, 0.2769, 0.5993],\n",
              "        [0.6571, 0.4288, 0.8007, 0.9330, 0.4888],\n",
              "        [0.6295, 0.7245, 0.1339, 0.4953, 0.7637]])"
            ]
          },
          "metadata": {},
          "execution_count": 12
        }
      ]
    },
    {
      "cell_type": "code",
      "source": [
        "# create model\n",
        "model = Model(features.shape[1])"
      ],
      "metadata": {
        "id": "qaXFs1BZO-F3"
      },
      "execution_count": 11,
      "outputs": []
    },
    {
      "cell_type": "code",
      "source": [
        "\n",
        "# call model for forward pass\n",
        "# model.forward(features)\n",
        "model(features)"
      ],
      "metadata": {
        "id": "I_Tbf5p6sQQI",
        "colab": {
          "base_uri": "https://localhost:8080/"
        },
        "outputId": "6aada08b-c0cb-47be-ccd0-298bc1696e9e"
      },
      "execution_count": 13,
      "outputs": [
        {
          "output_type": "execute_result",
          "data": {
            "text/plain": [
              "tensor([[0.5164],\n",
              "        [0.5635],\n",
              "        [0.6361],\n",
              "        [0.5570],\n",
              "        [0.5448],\n",
              "        [0.5468],\n",
              "        [0.5270],\n",
              "        [0.5262],\n",
              "        [0.5715],\n",
              "        [0.6030]], grad_fn=<SigmoidBackward0>)"
            ]
          },
          "metadata": {},
          "execution_count": 13
        }
      ]
    },
    {
      "cell_type": "code",
      "source": [
        "# show model weights\n",
        "#model.linear2.weight"
      ],
      "metadata": {
        "id": "Kf6yPbtBPvCD"
      },
      "execution_count": 4,
      "outputs": []
    },
    {
      "cell_type": "code",
      "source": [
        "!pip install torchinfo"
      ],
      "metadata": {
        "colab": {
          "base_uri": "https://localhost:8080/"
        },
        "id": "qcER5vK3saCz",
        "outputId": "84122abe-e377-4500-ed6d-5d296b846007"
      },
      "execution_count": 5,
      "outputs": [
        {
          "output_type": "stream",
          "name": "stdout",
          "text": [
            "Collecting torchinfo\n",
            "  Downloading torchinfo-1.8.0-py3-none-any.whl.metadata (21 kB)\n",
            "Downloading torchinfo-1.8.0-py3-none-any.whl (23 kB)\n",
            "Installing collected packages: torchinfo\n",
            "Successfully installed torchinfo-1.8.0\n"
          ]
        }
      ]
    },
    {
      "cell_type": "code",
      "source": [
        "from torchinfo import summary\n",
        "\n",
        "summary(model, input_size=(10, 5))"
      ],
      "metadata": {
        "id": "ah9VjT_dxiJD",
        "colab": {
          "base_uri": "https://localhost:8080/"
        },
        "outputId": "bfacffbc-384e-4d4f-e2d1-996fdf6f3e63"
      },
      "execution_count": 14,
      "outputs": [
        {
          "output_type": "execute_result",
          "data": {
            "text/plain": [
              "==========================================================================================\n",
              "Layer (type:depth-idx)                   Output Shape              Param #\n",
              "==========================================================================================\n",
              "Model                                    [10, 1]                   --\n",
              "├─Sequential: 1-1                        [10, 1]                   --\n",
              "│    └─Linear: 2-1                       [10, 3]                   18\n",
              "│    └─ReLU: 2-2                         [10, 3]                   --\n",
              "│    └─Linear: 2-3                       [10, 1]                   4\n",
              "│    └─Sigmoid: 2-4                      [10, 1]                   --\n",
              "==========================================================================================\n",
              "Total params: 22\n",
              "Trainable params: 22\n",
              "Non-trainable params: 0\n",
              "Total mult-adds (Units.MEGABYTES): 0.00\n",
              "==========================================================================================\n",
              "Input size (MB): 0.00\n",
              "Forward/backward pass size (MB): 0.00\n",
              "Params size (MB): 0.00\n",
              "Estimated Total Size (MB): 0.00\n",
              "=========================================================================================="
            ]
          },
          "metadata": {},
          "execution_count": 14
        }
      ]
    },
    {
      "cell_type": "code",
      "source": [],
      "metadata": {
        "id": "7AbUHThPxpIc"
      },
      "execution_count": null,
      "outputs": []
    }
  ]
}